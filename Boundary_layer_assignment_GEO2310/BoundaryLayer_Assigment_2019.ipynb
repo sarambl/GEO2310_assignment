{
 "cells": [
  {
   "cell_type": "markdown",
   "metadata": {},
   "source": [
    "# Mandatory assignment GEO2310: Boundary Layer\n",
    "## _Analysis of turbulent fluxes between surface and atmosphere_"
   ]
  },
  {
   "cell_type": "markdown",
   "metadata": {},
   "source": [
    "_You may work together on the assigment, but you should all write and hand in individual assigments. Please state with whom you have cooperated with in your hand in._\n"
   ]
  },
  {
   "cell_type": "markdown",
   "metadata": {},
   "source": [
    "## About the assigment:\n",
    "In part of this assigment you will be using data from a eddy covariance measurement station which is located at Finse on Hardangervidda. The photo below shows the area around the station (left) and the two measurement instruments needed to measure eddy covariance.\n",
    "\n",
    "<img src=\"pic_finse.png\" alt=\"Finse\"\n",
    "\ttitle=\"Finse\" width=\"450\"/>\n",
    "<img src=\"instrument_pic.png\" alt=\"Instrument\"\n",
    "\ttitle=\"Instrument\" width=\"350\"/>\n",
    "\n",
    "**Figure 1:** _Eddy covariance station on Finse in june (left) and january (right). Gass analysor and anemometer are placed at 4.4 meters above the surface._    \n",
    "\n",
    "Exercise 1 and 2 are introductory theory questions which should be answered in writing in the report (you may choose to write them into the jupyter notebook or in a separate document). \n",
    "\n",
    "You may want to spend some time on getting to know pandas for this exercise. Some good places to start may be [here](https://jakevdp.github.io/PythonDataScienceHandbook/03.00-introduction-to-pandas.html) or say [here](https://www.codecademy.com/learn/data-processing-pandas) (I think this is for free with some advertisement). \n",
    "\n"
   ]
  },
  {
   "cell_type": "markdown",
   "metadata": {},
   "source": [
    "### The dataset:\n",
    "For exercise 3 and out you will work with data from the eddy covariance station on Finse. The raw data contain 10 Hz measurements of \n",
    "- horizontal winds (u_m/s and v_m/s) [m/s]\n",
    "- vertical wind (w_m/s) [m/s]\n",
    "- temperature (T_degC) [$^\\circ$C]\n",
    "- mixing ratio of H$_2$O [ppt -- parts per thousands]\n",
    "- mixing ratio of CO$_2$ [ppm -- parts per million]\n",
    "\n",
    "The files contain data from one day in september 2017 and are split into 30 min intervals. \n",
    "\n",
    "You may use a function from the script import_files.py to import the data into a pandas dataframe. \n",
    "\n",
    "If you prefer to work with numpy, the data can be extracted into numpy arrays as follows:"
   ]
  },
  {
   "cell_type": "code",
   "execution_count": 2,
   "metadata": {
    "collapsed": false,
    "scrolled": true
   },
   "outputs": [
    {
     "name": "stdout",
     "output_type": "stream",
     "text": [
      "Importing: ./prepared_raw_data/2017-09-23T073000.csv\n",
      "Importing: ./prepared_raw_data/2017-09-23T080000.csv\n",
      "Importing: ./prepared_raw_data/2017-09-23T083000.csv\n",
      "Importing: ./prepared_raw_data/2017-09-23T090000.csv\n",
      "Importing: ./prepared_raw_data/2017-09-23T093000.csv\n",
      "Importing: ./prepared_raw_data/2017-09-23T100000.csv\n",
      "Importing: ./prepared_raw_data/2017-09-23T103000.csv\n",
      "Importing: ./prepared_raw_data/2017-09-23T110000.csv\n",
      "Importing: ./prepared_raw_data/2017-09-23T113000.csv\n",
      "Importing: ./prepared_raw_data/2017-09-23T120000.csv\n",
      "Importing: ./prepared_raw_data/2017-09-23T123000.csv\n",
      "Importing: ./prepared_raw_data/2017-09-23T130000.csv\n",
      "Importing: ./prepared_raw_data/2017-09-23T133000.csv\n",
      "Importing: ./prepared_raw_data/2017-09-23T140000.csv\n",
      "Importing: ./prepared_raw_data/2017-09-23T143000.csv\n",
      "Importing: ./prepared_raw_data/2017-09-23T150000.csv\n",
      "Importing: ./prepared_raw_data/2017-09-23T153000.csv\n",
      "Importing: ./prepared_raw_data/2017-09-23T160000.csv\n",
      "Importing: ./prepared_raw_data/2017-09-23T163000.csv\n",
      "Importing: ./prepared_raw_data/2017-09-23T170000.csv\n",
      "Importing: ./prepared_raw_data/2017-09-23T173000.csv\n",
      "Importing: ./prepared_raw_data/2017-09-23T180000.csv\n",
      "Importing: ./prepared_raw_data/2017-09-23T183000.csv\n",
      "Importing: ./prepared_raw_data/2017-09-23T190000.csv\n",
      "Importing: ./prepared_raw_data/2017-09-23T193000.csv\n",
      "Importing: ./prepared_raw_data/2017-09-23T200000.csv\n",
      "Importing: ./prepared_raw_data/2017-09-23T203000.csv\n",
      "Importing: ./prepared_raw_data/2017-09-23T210000.csv\n",
      "Datamaterial contains 504000 point from 28 files, each file containing 18000 datapoints\n"
     ]
    }
   ],
   "source": [
    "import importlib\n",
    "import import_files # import function to import files\n",
    "# Import useful packages\n",
    "import pandas as pd # import pandas to handle datasets\n",
    "import numpy as np \n",
    "import matplotlib.pyplot as plt\n",
    "importlib.reload(import_files)\n",
    "\n",
    "rho_a = 1.07 # Tetthet luft Kg/m^3 \n",
    "c_p = 1010.0 #Spesikk varmekapasitet ved konstant xtrypp for luft J/Kkg\n",
    "Lv = 2.48e6 # J/kg   Kondensasjonsvarme for vann\n",
    "Mh2o=0.01802 # molecular weight of water\n",
    "\n",
    "Pa=86000.  # [Pa] Surface pressure at Finse\n",
    "va=279.*8.314/Pa # [m3/mol] Molar volume air. Assume T=279: pV=R*T--> V=R*T/p\n",
    "e = 8.8*1e-3 *Pa # [m3/mol] Molar volume vapor (approximation). Assumed 8.8*10^-3mol/mol mix ratio\n",
    "vd=va*Pa/(Pa-e) # Molar volume dry air ??????????????????\n",
    "\n",
    "# Import the files:\n",
    "dataset,periodnames=import_files.import_files('./prepared_raw_data/')\n",
    "\n",
    "# calculate rho_H2O:\n",
    "dataset['rho_H2O'] = dataset['H2O_ppt']*1e-3*Mh2o/vd # [10^3 mol_H2O/mol_air]*[10^-3]*[kg/mol_H2O]/[m3_air/mol_air]-->[kg_H2O/m3_air]\n",
    "\n",
    "# Example: extract numpy array from dataset:\n",
    "#u=dataset['u_m/s'].values\n",
    "\n",
    "\n",
    "N=len(dataset) # nr of points in dataset\n",
    "N_per=len(periodnames) #nr of periods (one per file) \n",
    "N_inper=int(N/len(periodnames)) # nr of points in one period (assuming equal number)\n",
    "print('Datamaterial contains %.0f point from %.0f files, each file containing %.0f datapoints' %(N,N_per,N_inper))\n"
   ]
  },
  {
   "cell_type": "code",
   "execution_count": 5,
   "metadata": {},
   "outputs": [
    {
     "data": {
      "text/html": [
       "<div>\n",
       "<style scoped>\n",
       "    .dataframe tbody tr th:only-of-type {\n",
       "        vertical-align: middle;\n",
       "    }\n",
       "\n",
       "    .dataframe tbody tr th {\n",
       "        vertical-align: top;\n",
       "    }\n",
       "\n",
       "    .dataframe thead th {\n",
       "        text-align: right;\n",
       "    }\n",
       "</style>\n",
       "<table border=\"1\" class=\"dataframe\">\n",
       "  <thead>\n",
       "    <tr style=\"text-align: right;\">\n",
       "      <th></th>\n",
       "      <th>u_m/s</th>\n",
       "      <th>v_m/s</th>\n",
       "      <th>w_m/s</th>\n",
       "      <th>T_degC</th>\n",
       "      <th>CO2_ppm</th>\n",
       "      <th>H2O_ppt</th>\n",
       "    </tr>\n",
       "  </thead>\n",
       "  <tbody>\n",
       "    <tr>\n",
       "      <th>2017-09-23 07:30:00.000</th>\n",
       "      <td>-1.69987</td>\n",
       "      <td>-1.95598</td>\n",
       "      <td>-0.162233</td>\n",
       "      <td>4.701326</td>\n",
       "      <td>382.608</td>\n",
       "      <td>7.92987</td>\n",
       "    </tr>\n",
       "    <tr>\n",
       "      <th>2017-09-23 07:30:00.100</th>\n",
       "      <td>-1.74579</td>\n",
       "      <td>-1.86007</td>\n",
       "      <td>-0.142336</td>\n",
       "      <td>4.699663</td>\n",
       "      <td>382.504</td>\n",
       "      <td>7.92518</td>\n",
       "    </tr>\n",
       "    <tr>\n",
       "      <th>2017-09-23 07:30:00.200</th>\n",
       "      <td>-1.69885</td>\n",
       "      <td>-1.86109</td>\n",
       "      <td>-0.150499</td>\n",
       "      <td>4.859337</td>\n",
       "      <td>382.508</td>\n",
       "      <td>7.92736</td>\n",
       "    </tr>\n",
       "    <tr>\n",
       "      <th>2017-09-23 07:30:00.300</th>\n",
       "      <td>-1.73049</td>\n",
       "      <td>-1.84272</td>\n",
       "      <td>-0.165804</td>\n",
       "      <td>4.678044</td>\n",
       "      <td>382.585</td>\n",
       "      <td>7.92939</td>\n",
       "    </tr>\n",
       "    <tr>\n",
       "      <th>2017-09-23 07:30:00.400</th>\n",
       "      <td>-1.89272</td>\n",
       "      <td>-1.90802</td>\n",
       "      <td>-0.122185</td>\n",
       "      <td>4.569962</td>\n",
       "      <td>382.598</td>\n",
       "      <td>7.92673</td>\n",
       "    </tr>\n",
       "  </tbody>\n",
       "</table>\n",
       "</div>"
      ],
      "text/plain": [
       "                           u_m/s    v_m/s     w_m/s    T_degC  CO2_ppm  \\\n",
       "2017-09-23 07:30:00.000 -1.69987 -1.95598 -0.162233  4.701326  382.608   \n",
       "2017-09-23 07:30:00.100 -1.74579 -1.86007 -0.142336  4.699663  382.504   \n",
       "2017-09-23 07:30:00.200 -1.69885 -1.86109 -0.150499  4.859337  382.508   \n",
       "2017-09-23 07:30:00.300 -1.73049 -1.84272 -0.165804  4.678044  382.585   \n",
       "2017-09-23 07:30:00.400 -1.89272 -1.90802 -0.122185  4.569962  382.598   \n",
       "\n",
       "                         H2O_ppt  \n",
       "2017-09-23 07:30:00.000  7.92987  \n",
       "2017-09-23 07:30:00.100  7.92518  \n",
       "2017-09-23 07:30:00.200  7.92736  \n",
       "2017-09-23 07:30:00.300  7.92939  \n",
       "2017-09-23 07:30:00.400  7.92673  "
      ]
     },
     "execution_count": 5,
     "metadata": {},
     "output_type": "execute_result"
    }
   ],
   "source": [
    "dataset.head() # Have a look at the dataset"
   ]
  },
  {
   "cell_type": "markdown",
   "metadata": {},
   "source": [
    "### Python tips:"
   ]
  },
  {
   "cell_type": "markdown",
   "metadata": {},
   "source": [
    "To create a linear regression line between variables X and Y:"
   ]
  },
  {
   "cell_type": "code",
   "execution_count": null,
   "metadata": {},
   "outputs": [],
   "source": [
    "from scipy import stats\n",
    "import numpy as np\n",
    "import matplotlib.pyplot as plt\n",
    "X = np.random.random(10)\n",
    "Y=np.random.random(10)\n",
    "slope, intercept, r_value, p_value, std_err = stats.linregress(X,Y)\n",
    "plt.scatter(X,Y)\n",
    "plt.plot(np.linspace(0,10,100), intercept+np.linspace(0,10,100)*slope)"
   ]
  },
  {
   "cell_type": "markdown",
   "metadata": {},
   "source": [
    "**The datetime package:**\n",
    "Example:"
   ]
  },
  {
   "cell_type": "code",
   "execution_count": 3,
   "metadata": {},
   "outputs": [
    {
     "name": "stdout",
     "output_type": "stream",
     "text": [
      "2017-09-23 12:00:00\n",
      "2017-09-23 12:30:00\n"
     ]
    }
   ],
   "source": [
    "import datetime\n",
    "start_time= datetime.datetime(year=2017,month=9, day=23, hour=12)\n",
    "print(start_time)\n",
    "dt=datetime.timedelta(minutes=30)\n",
    "print(start_time+dt)\n"
   ]
  },
  {
   "cell_type": "markdown",
   "metadata": {},
   "source": [
    "#### Pandas tips:\n",
    "Useful functions:\n",
    "\n",
    "Exchange \"DataFrame\" below for the name of your dataframe object. \n",
    "\n",
    "```python\n",
    "DataFrame.resemble('30min') \n",
    "```\n",
    "Groups your data into 30 min groups. Combine this with some function you would like to apply to these groups, e.g. if you want 30 min avg:\n",
    "```python\n",
    "DataFrame.resemble('30min').mean()\n",
    "```"
   ]
  },
  {
   "cell_type": "markdown",
   "metadata": {},
   "source": [
    "## Exercise 1\n",
    "Give a short explenation of the processes that contribute to energy fluxes between the atmosphere and the earth surface. Which processes determine the CO$_2$ flux in this ecosystem?"
   ]
  },
  {
   "cell_type": "markdown",
   "metadata": {},
   "source": [
    "## Exercise 2\n",
    "Explain the principles for measuring of latent and sensible heat flux by the eddy covariance methind.\n",
    "1. Instruments\n",
    "2. Theory behind the method -- how do we arrive at the equations that we use?\n",
    "3. Necessary assumptions -- What can you say about the instrument placement and the are around it? (google is allowd)"
   ]
  },
  {
   "cell_type": "markdown",
   "metadata": {},
   "source": [
    "## Exercise 3\n",
    "Calculate the mean value and standard deviation for each of the variables for the 30 minuts averaging periods and discuss if the turbulence is stationary in this case. "
   ]
  },
  {
   "cell_type": "markdown",
   "metadata": {},
   "source": [
    "## Exercise 4\n",
    "Run a quadrant analysis of the period from 13.00-14.00. That is:\n",
    "\n",
    "1. Make a scatter plot with T' and w'. Plot also a regression line. Which direction does the flux of sensible heat have? Up or down?\n",
    "2. Make a scatter plot with $\\rho_{H_2O}$' (density of water vapour) and w'. Plot also a regression line. Which direction does the flux of laten heat have? Up or down?\n",
    "3. Make a scatter plot with CO2_ppm' (density of water vapour) and w'. Plot also a regression line. Which direction does the flux of CO$_2$ have? Up or down?"
   ]
  },
  {
   "cell_type": "markdown",
   "metadata": {},
   "source": [
    "## Exercise 5:\n",
    "Calculate the vertical flux of sensible and latent heat (units W/m$^2$ for both!) and the CO$_2$ for each averaging period. The calculation should follow the method (the equations) you described in exercise 2. Make a plot that shows how the fluxes vary with time. \n",
    "\n",
    "1. Discuss the results. Which direction does the flux have? Describe the variation through the day.\n",
    "2. Can you say something about how the total energy budget at the surface in this period?\n",
    "3. Is the ecosystem a source or a sink of CO$_2$ in the period?\n",
    "4. What determines the size of the surface area that effects the fluxes?"
   ]
  },
  {
   "cell_type": "markdown",
   "metadata": {},
   "source": [
    "## Exercise 6:\n",
    "In exercise 3 you calculated the mean vertical wind (w) and you should be able to see that it deviates significantly from zero at times. What could be the cause of this? How will the flux estimates be affected by this? Could you give some other possible sources of errors and uncertainty in the flux estimates on Finse?"
   ]
  },
  {
   "cell_type": "markdown",
   "metadata": {},
   "source": [
    "## Exercise 7:\n",
    "Estimate the turbulent kinetic energy (TKE) in the same periods as used above (30 min). Is there any connection between TKE and the fluxes of latent and sensible heat? "
   ]
  }
 ],
 "metadata": {
  "kernelspec": {
   "display_name": "Python 3",
   "language": "python",
   "name": "python3"
  },
  "language_info": {
   "codemirror_mode": {
    "name": "ipython",
    "version": 3
   },
   "file_extension": ".py",
   "mimetype": "text/x-python",
   "name": "python",
   "nbconvert_exporter": "python",
   "pygments_lexer": "ipython3",
   "version": "3.7.2"
  }
 },
 "nbformat": 4,
 "nbformat_minor": 2
}
