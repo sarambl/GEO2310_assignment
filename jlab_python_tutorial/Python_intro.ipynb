{
 "cells": [
  {
   "cell_type": "markdown",
   "metadata": {
    "slideshow": {
     "slide_type": "slide"
    }
   },
   "source": [
    "# Python introduction"
   ]
  },
  {
   "cell_type": "markdown",
   "metadata": {},
   "source": [
    "_Edited from https://github.com/daliagachc/negi-stuff/_\n"
   ]
  },
  {
   "cell_type": "markdown",
   "metadata": {},
   "source": [
    "## Why Python?\n",
    "\n",
    "<img align=\"left\" style=\"padding-right:10px;\" src=\"imgs/stack_plot.svg\" width=\"800\">\n",
    "\n",
    "<small>(Source: [Stack Overflow](https://goo.gl/YwPocq))</small>"
   ]
  },
  {
   "cell_type": "markdown",
   "metadata": {
    "incorrectly_encoded_metadata": "slideshow={\"slide_type\": \"slide\"} toc-hr-collapsed=true"
   },
   "source": [
    "# Jupyter"
   ]
  },
  {
   "cell_type": "markdown",
   "metadata": {
    "slideshow": {
     "slide_type": "-"
    }
   },
   "source": [
    "<img align=\"left\" style=\"padding-right:10px;\" src=\"imgs/jupyter_logo.png\" width=\"200\">"
   ]
  },
  {
   "cell_type": "markdown",
   "metadata": {},
   "source": [
    "<img align=\"left\" style=\"padding-right:10px;\" src=\"imgs/jup_img.png\" width=\"500\">"
   ]
  },
  {
   "cell_type": "markdown",
   "metadata": {
    "slideshow": {
     "slide_type": "subslide"
    }
   },
   "source": [
    "## Why do we use jupyter lab?\n",
    "- Easy to use, easy to share!\n",
    "    - You can share code, plots and text together --> makes easy to follow description of your work \n",
    "- Work interactively with your data\n",
    "    - Plot, make change, replot and have all of it together together in one document\n",
    "    - Also remotely\n",
    "- Reproducability\n",
    "- Almost an IDE\n",
    "\n",
    "\n",
    "![](imgs/Fieldnotes_jlab.png)\n",
    "[Jupyter org](http://jupyter.org/)"
   ]
  },
  {
   "cell_type": "markdown",
   "metadata": {
    "incorrectly_encoded_metadata": "toc-hr-collapsed=true"
   },
   "source": [
    "# Jupyter Notebooks \n",
    "## Web Resources\n",
    "\n",
    "- [The IPython website](http://ipython.org): The IPython website links to documentation, examples, tutorials, and a variety of other resources.\n",
    "- [The nbviewer website](http://nbviewer.jupyter.org/): This site shows static renderings of any IPython notebook available on the internet. The front page features some example notebooks that you can browse to see what other folks are using IPython for!\n",
    "- [A gallery of interesting Jupyter Notebooks](https://github.com/jupyter/jupyter/wiki/A-gallery-of-interesting-Jupyter-Notebooks/): This ever-growing list of notebooks, powered by nbviewer, shows the depth and breadth of numerical analysis you can do with IPython. It includes everything from short examples and tutorials to full-blown courses and books composed in the notebook format!\n",
    "- Video Tutorials: searching the Internet, you will find many video-recorded tutorials on IPython. I'd especially recommend seeking tutorials from the PyCon, SciPy, and PyData conferenes by Fernando Perez and Brian Granger, two of the primary creators and maintainers of IPython and Jupyter."
   ]
  },
  {
   "cell_type": "markdown",
   "metadata": {},
   "source": [
    "## Basic jupyter lab:"
   ]
  },
  {
   "cell_type": "code",
   "execution_count": 8,
   "metadata": {},
   "outputs": [
    {
     "name": "stdout",
     "output_type": "stream",
     "text": [
      "2\n"
     ]
    }
   ],
   "source": [
    "a = 2\n",
    "print(a)"
   ]
  },
  {
   "cell_type": "markdown",
   "metadata": {},
   "source": [
    "# Hei Hei"
   ]
  },
  {
   "cell_type": "markdown",
   "metadata": {},
   "source": [
    "### Mark down cell\n",
    "Latex formatting:\n",
    "$x^2 = y^2 + z^2$\n",
    "\n",
    "**Longer:**\n",
    "\\begin{align}\n",
    "x+1 =& 2 \\\\\n",
    "x =& 2-1\n",
    "\\end{align}\n",
    "\n",
    "_Italic_"
   ]
  },
  {
   "cell_type": "markdown",
   "metadata": {},
   "source": [
    "### Code cell:"
   ]
  },
  {
   "cell_type": "code",
   "execution_count": 9,
   "metadata": {},
   "outputs": [
    {
     "data": {
      "text/plain": [
       "3"
      ]
     },
     "execution_count": 9,
     "metadata": {},
     "output_type": "execute_result"
    }
   ],
   "source": [
    "x=1\n",
    "y=2\n",
    "x+y"
   ]
  },
  {
   "cell_type": "markdown",
   "metadata": {},
   "source": [
    "### Contextual help:\n",
    "click CTRL + i"
   ]
  },
  {
   "cell_type": "code",
   "execution_count": 10,
   "metadata": {},
   "outputs": [
    {
     "data": {
      "text/plain": [
       "3"
      ]
     },
     "execution_count": 10,
     "metadata": {},
     "output_type": "execute_result"
    }
   ],
   "source": [
    "import numpy as np\n",
    "a = np.array([1,2,3])\n",
    "np.max(a)"
   ]
  },
  {
   "cell_type": "markdown",
   "metadata": {
    "slideshow": {
     "slide_type": "slide"
    }
   },
   "source": [
    "## Basic python"
   ]
  },
  {
   "cell_type": "markdown",
   "metadata": {},
   "source": [
    "### Plotting"
   ]
  },
  {
   "cell_type": "markdown",
   "metadata": {},
   "source": [
    "Let's make some random data\n",
    "\n",
    "- Plot two lineplot\n",
    "- Add xlabel, ylabel, title, legend\n",
    "- make a scatter plot\n",
    "- customize linewidth/size, alpha, etc\n",
    "- set xlim, ylim"
   ]
  },
  {
   "cell_type": "code",
   "execution_count": 11,
   "metadata": {},
   "outputs": [],
   "source": [
    "import matplotlib.pyplot as plt\n",
    "x= [1,2,3,4]\n",
    "y= np.array([2,3,2,6])\n",
    "y2 = y+1\n",
    "# ADD xlabel, ylabel and title"
   ]
  },
  {
   "cell_type": "code",
   "execution_count": 12,
   "metadata": {},
   "outputs": [
    {
     "data": {
      "text/plain": [
       "<matplotlib.collections.PathCollection at 0x7f694cf67160>"
      ]
     },
     "execution_count": 12,
     "metadata": {},
     "output_type": "execute_result"
    },
    {
     "data": {
      "image/png": "[encoded data removed]",
      "text/plain": [
       "<Figure size 432x288 with 1 Axes>"
      ]
     },
     "metadata": {
      "needs_background": "light"
     },
     "output_type": "display_data"
    }
   ],
   "source": [
    "plt.scatter(x,y, c='r', marker='*', s=300)"
   ]
  },
  {
   "cell_type": "markdown",
   "metadata": {},
   "source": [
    "## Super small pandas example:"
   ]
  },
  {
   "cell_type": "code",
   "execution_count": 26,
   "metadata": {},
   "outputs": [],
   "source": [
    "import pandas as pd\n",
    "from pandas.plotting import register_matplotlib_converters\n",
    "register_matplotlib_converters()\n",
    "tser = pd.read_csv('sample_data/daily-min-temperatures.csv',index_col=0,parse_dates=True)"
   ]
  },
  {
   "cell_type": "code",
   "execution_count": 27,
   "metadata": {},
   "outputs": [],
   "source": [
    "tser = tser['Temp']\n",
    "tser_mm = tser.resample('M').mean()\n",
    "tser_sd = tser.resample('M').std()\n",
    "tser_clim_mm = tser.groupby(by=tser.index.month).mean()\n",
    "tser_clim_sd = tser.groupby(by=tser.index.month).std()"
   ]
  },
  {
   "cell_type": "code",
   "execution_count": 28,
   "metadata": {
    "lines_to_next_cell": 2
   },
   "outputs": [
    {
     "data": {
      "image/png": "[encoded data removed]",
      "text/plain": [
       "<Figure size 720x360 with 2 Axes>"
      ]
     },
     "metadata": {
      "needs_background": "light"
     },
     "output_type": "display_data"
    }
   ],
   "source": [
    "fig, axs = plt.subplots(2,1, figsize=[10,5])\n",
    "axs[0].fill_between(tser_mm.index, (tser_mm-2*tser_sd), tser_mm+2*tser_sd, \n",
    "                    alpha=.4, color='r', label=r'$\\pm$ 2 $\\sigma$')\n",
    "axs[0].plot(tser_mm.index, tser_mm, label='monthly mean')\n",
    "axs[0].legend()\n",
    "axs[1].fill_between(tser_clim_mm.index, (tser_clim_mm-2*tser_clim_sd), \n",
    "                    tser_clim_mm+2*tser_clim_sd, \n",
    "                    alpha=.4, color='r', label=r'$\\pm$ 2 $\\sigma$')\n",
    "axs[1].plot(tser_clim_mm.index, tser_clim_mm, label='climatology months')\n",
    "axs[1].legend()\n",
    "plt.tight_layout()\n",
    "axs[1].set_xlabel('Month')\n",
    "axs[1].set_xlim([.9,12.1])\n",
    "axs[0].set_xlim('1981-1', '1991-02')\n",
    "plt.show()"
   ]
  },
  {
   "cell_type": "markdown",
   "metadata": {},
   "source": [
    "## Make a function when you do things multiple times!\n",
    "E.g. the plot above!"
   ]
  },
  {
   "cell_type": "code",
   "execution_count": null,
   "metadata": {},
   "outputs": [],
   "source": []
  },
  {
   "cell_type": "markdown",
   "metadata": {},
   "source": [
    "# SHOW EXPORTS AS PDF"
   ]
  },
  {
   "cell_type": "markdown",
   "metadata": {},
   "source": [
    "# Classes in python:"
   ]
  },
  {
   "cell_type": "markdown",
   "metadata": {},
   "source": [
    "### A very small python class introduction"
   ]
  },
  {
   "cell_type": "markdown",
   "metadata": {},
   "source": [
    "We will be using a python class to write the model. A class can be described as the programming version of \"a type of thing\". Much like a human could be an instance of the class human beings, the individual instances of a python class might have different attributes (e.g. human names) and give you different responses when asked to perform certain tasks (e.g. conversation). \n",
    "\n",
    "_Example:_ If you have ever used the package numpy, you might (or might not) know, that the numpy n dimension array \"ndarray\" is a class. It has some attributes like \"shape\", \"dtype\" (the data type) and it has some methods, like \"sum\" or \"max\"/\"min\". "
   ]
  },
  {
   "cell_type": "code",
   "execution_count": 34,
   "metadata": {},
   "outputs": [],
   "source": [
    "import numpy as np\n",
    "a = np.array([[1, 2, 3], [4, 5, 6]])  # creates an object of the numpy ndarray class\n",
    "b = np.array([[1, 4, 4], [4, 5, 6]])  # creates an object of the numpy ndarray class"
   ]
  },
  {
   "cell_type": "code",
   "execution_count": 35,
   "metadata": {},
   "outputs": [
    {
     "data": {
      "text/plain": [
       "numpy.ndarray"
      ]
     },
     "execution_count": 35,
     "metadata": {},
     "output_type": "execute_result"
    }
   ],
   "source": [
    "type(b)"
   ]
  },
  {
   "cell_type": "code",
   "execution_count": 33,
   "metadata": {},
   "outputs": [
    {
     "name": "stdout",
     "output_type": "stream",
     "text": [
      "<class 'numpy.ndarray'>\n"
     ]
    }
   ],
   "source": [
    "print(type(a))"
   ]
  },
  {
   "cell_type": "code",
   "execution_count": 36,
   "metadata": {},
   "outputs": [
    {
     "data": {
      "text/plain": [
       "21"
      ]
     },
     "execution_count": 36,
     "metadata": {},
     "output_type": "execute_result"
    }
   ],
   "source": [
    "a.sum()  # .sum is a method of the ndarray class"
   ]
  },
  {
   "cell_type": "code",
   "execution_count": 37,
   "metadata": {},
   "outputs": [
    {
     "data": {
      "text/plain": [
       "(2, 3)"
      ]
     },
     "execution_count": 37,
     "metadata": {},
     "output_type": "execute_result"
    }
   ],
   "source": [
    "a.shape  # .shape is an attribute of the ndarray class"
   ]
  },
  {
   "cell_type": "code",
   "execution_count": 19,
   "metadata": {},
   "outputs": [],
   "source": [
    "class Human:\n",
    "    def __init__(self, name, email):\n",
    "        self.name = name  # set attributes\n",
    "        self.email = email\n",
    "        return\n",
    "\n",
    "    def say_hi_to(self, name_other):  # this is a class method\n",
    "        print('Hi %s, my name is %s!\\n My email is %s' % (name_other, \n",
    "                                                          self.name, self.email))"
   ]
  },
  {
   "cell_type": "code",
   "execution_count": 38,
   "metadata": {},
   "outputs": [],
   "source": [
    "sara = Human(\"Sara\", \"s.m.blichner@geo.uio.no\")"
   ]
  },
  {
   "cell_type": "code",
   "execution_count": 40,
   "metadata": {},
   "outputs": [
    {
     "data": {
      "text/plain": [
       "'s.m.blichner@geo.uio.no'"
      ]
     },
     "execution_count": 40,
     "metadata": {},
     "output_type": "execute_result"
    }
   ],
   "source": [
    "sara.name  # Get attribute\n",
    "sara.email"
   ]
  },
  {
   "cell_type": "code",
   "execution_count": 41,
   "metadata": {},
   "outputs": [
    {
     "name": "stdout",
     "output_type": "stream",
     "text": [
      "Hi students, my name is Sara!\n",
      " My email is s.m.blichner@geo.uio.no\n"
     ]
    }
   ],
   "source": [
    "sara.say_hi_to('students')  # call method"
   ]
  },
  {
   "cell_type": "markdown",
   "metadata": {},
   "source": [
    "#### Make a subclass"
   ]
  },
  {
   "cell_type": "markdown",
   "metadata": {},
   "source": [
    "A subclass inherets everything from the parent class (here Human) -- unless the specific attribute or method is overwritten in the subclass. "
   ]
  },
  {
   "cell_type": "code",
   "execution_count": 42,
   "metadata": {},
   "outputs": [],
   "source": [
    "class Student(Human):\n",
    "    def __init__(self, name, email, student_id,\n",
    "                 institution = 'UiO'):\n",
    "        # notice the default argument here --\n",
    "        # if nothing else is specified the institution will be UiO\n",
    "        self.student_id = student_id\n",
    "        self.institution = institution\n",
    "        super().__init__(name, email)\n",
    "\n",
    "    def present_myself(self):\n",
    "        print('Hi all, my name is %s and I am a student here at %s! \\\n",
    "            \\n My email is %s and my student id is %s'\n",
    "              % (self.name, self.institution, self.email, self.student_id))"
   ]
  },
  {
   "cell_type": "code",
   "execution_count": 43,
   "metadata": {},
   "outputs": [
    {
     "name": "stdout",
     "output_type": "stream",
     "text": [
      "Ola\n"
     ]
    }
   ],
   "source": [
    "student = Student('Ola', 'ola@uio.no', 9999)\n",
    "print(student.name)"
   ]
  },
  {
   "cell_type": "code",
   "execution_count": 44,
   "metadata": {},
   "outputs": [
    {
     "name": "stdout",
     "output_type": "stream",
     "text": [
      "Hi Sara, my name is Ola!\n",
      " My email is ola@uio.no\n"
     ]
    }
   ],
   "source": [
    "student.say_hi_to('Sara')"
   ]
  },
  {
   "cell_type": "code",
   "execution_count": 45,
   "metadata": {},
   "outputs": [
    {
     "name": "stdout",
     "output_type": "stream",
     "text": [
      "Hi all, my name is Ola and I am a student here at UiO!             \n",
      " My email is ola@uio.no and my student id is 9999\n"
     ]
    }
   ],
   "source": [
    "student.present_myself()"
   ]
  }
 ],
 "metadata": {
  "jupytext": {
   "text_representation": {
    "extension": ".py",
    "format_name": "percent",
    "format_version": "1.3",
    "jupytext_version": "1.3.2"
   }
  },
  "kernelspec": {
   "display_name": "Python 3",
   "language": "python",
   "name": "python3"
  },
  "language_info": {
   "codemirror_mode": {
    "name": "ipython",
    "version": 3
   },
   "file_extension": ".py",
   "mimetype": "text/x-python",
   "name": "python",
   "nbconvert_exporter": "python",
   "pygments_lexer": "ipython3",
   "version": "3.6.7"
  }
 },
 "nbformat": 4,
 "nbformat_minor": 4
}
