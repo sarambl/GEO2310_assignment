{
 "cells": [
  {
   "cell_type": "markdown",
   "metadata": {},
   "source": [
    "# Mandatory assigment GEO2310: Thermodynamics"
   ]
  },
  {
   "cell_type": "markdown",
   "metadata": {},
   "source": [
    "This assignment is somewhat programming heavy, so some of you might find it challenging and some of you might find it pretty strait forewards. Both is fine! The best thing to do if you find it hard, is to remember that programming is a very important skill going forewards with your studies and very possibly your working life. So spending some time brushing up is a very good idea! "
   ]
  },
  {
   "cell_type": "markdown",
   "metadata": {},
   "source": [
    "### Contact person:\n",
    "Sara Blichner [s.m.blichner@geo.uio.no](s.m.blichner@geo.uio.no)\n",
    "\n",
    "Please feel free to contact me if anything is unclear or if you need help with the assignment. Especially if you feel like this is super difficult -- please contact me! **We will make it work :)**"
   ]
  },
  {
   "cell_type": "markdown",
   "metadata": {},
   "source": [
    "### Hand in:\n",
    "- One pdf with your results\n",
    "- All your code either as scripts (well documented) or as a notebook. \n",
    "- Make sure to comment on your results.\n",
    "- Add titles and axis labels to your figures (plt.title('title') etc)\n",
    "- Please try to make your report as tidy and easy to read as possible :)\n",
    "    - Make sure you are easy to read -- read through your answer and make sure you understand what you meant (if not the chances that I will are slim\n",
    "    - Use proper sentences (\"x increases\" but \"we see that x increases with time\" e.g.)"
   ]
  },
  {
   "cell_type": "markdown",
   "metadata": {},
   "source": [
    "### A very small python class introduction"
   ]
  },
  {
   "cell_type": "markdown",
   "metadata": {},
   "source": [
    "We will be using a python class to write the model. A class can be described as the programming version of \"a type of thing\". Much like a human could be an instance of the class human beings, the individual instances of a python class might have different attributes (e.g. human names) and give you different responses when asked to perform certain tasks (e.g. conversation). \n",
    "\n",
    "_Example:_ If you have ever used the package numpy, you might (or might not) know, that the numpy n dimension array \"ndarray\" is a class. It has some attributes like \"shape\", \"dtype\" (the data type) and it has some methods, like \"sum\" or \"max\"/\"min\". "
   ]
  },
  {
   "cell_type": "code",
   "execution_count": 1,
   "metadata": {},
   "outputs": [
    {
     "name": "stdout",
     "output_type": "stream",
     "text": [
      "<class 'numpy.ndarray'>\n"
     ]
    }
   ],
   "source": [
    "import numpy as np\n",
    "   \n",
    "a = np.array([[1, 2, 3], [4, 5, 6]])  # creates an object of the numpy ndarray class\n",
    "print(type(a))"
   ]
  },
  {
   "cell_type": "code",
   "execution_count": 2,
   "metadata": {},
   "outputs": [
    {
     "data": {
      "text/plain": [
       "21"
      ]
     },
     "execution_count": 2,
     "metadata": {},
     "output_type": "execute_result"
    }
   ],
   "source": [
    "a.sum()  # .sum is a method of the ndarray class"
   ]
  },
  {
   "cell_type": "code",
   "execution_count": 3,
   "metadata": {},
   "outputs": [
    {
     "data": {
      "text/plain": [
       "(2, 3)"
      ]
     },
     "execution_count": 3,
     "metadata": {},
     "output_type": "execute_result"
    }
   ],
   "source": [
    "a.shape  # .shape is an attribute of the ndarray class"
   ]
  },
  {
   "cell_type": "code",
   "execution_count": 4,
   "metadata": {},
   "outputs": [],
   "source": [
    "class Human:\n",
    "    def __init__(self, name, email):\n",
    "        self.name = name  # set attributes\n",
    "        self.email = email\n",
    "        return\n",
    "\n",
    "    def say_hi_to(self, name_other):  # this is a class method\n",
    "        print('Hi %s, my name is %s!\\n My email is %s' % (name_other, self.name, self.email))"
   ]
  },
  {
   "cell_type": "code",
   "execution_count": 5,
   "metadata": {},
   "outputs": [],
   "source": [
    "sara = Human(\"Sara\", \"s.m.blichner@geo.uio.no\")"
   ]
  },
  {
   "cell_type": "code",
   "execution_count": 6,
   "metadata": {},
   "outputs": [
    {
     "data": {
      "text/plain": [
       "'Sara'"
      ]
     },
     "execution_count": 6,
     "metadata": {},
     "output_type": "execute_result"
    }
   ],
   "source": [
    "sara.name  # Get attribute"
   ]
  },
  {
   "cell_type": "code",
   "execution_count": 7,
   "metadata": {},
   "outputs": [
    {
     "name": "stdout",
     "output_type": "stream",
     "text": [
      "Hi students, my name is Sara!\n",
      " My email is s.m.blichner@geo.uio.no\n"
     ]
    }
   ],
   "source": [
    "sara.say_hi_to('students')  # call method"
   ]
  },
  {
   "cell_type": "markdown",
   "metadata": {},
   "source": [
    "#### Make a subclass"
   ]
  },
  {
   "cell_type": "markdown",
   "metadata": {},
   "source": [
    "A subclass inherets everything from the parent class (here Human) -- unless the specific attribute or method is overwritten in the subclass. "
   ]
  },
  {
   "cell_type": "code",
   "execution_count": 8,
   "metadata": {},
   "outputs": [
    {
     "name": "stdout",
     "output_type": "stream",
     "text": [
      "Ola\n",
      "Hi Sara, my name is Ola!\n",
      " My email is ola@uio.no\n"
     ]
    }
   ],
   "source": [
    "class Student(Human):\n",
    "    def __init__(self, name, email, student_id,\n",
    "                 institution='UiO'):\n",
    "        # notice the default argument here --\n",
    "        # if nothing else is specified the institution will be UiO\n",
    "        self.student_id = student_id\n",
    "        self.institution = institution\n",
    "        super().__init__(name, email)\n",
    "\n",
    "    def present_myself(self):\n",
    "        print('Hi all, my name is %s and I am a student here at %s! \\\n",
    "            \\n My email is %s and my student id is %s'\n",
    "              % (self.name, self.institution, self.email, self.student_id))\n",
    "\n",
    "\n",
    "student = Student('Ola', 'ola@uio.no', 9999)\n",
    "print(student.name)\n",
    "student.say_hi_to('Sara')"
   ]
  },
  {
   "cell_type": "code",
   "execution_count": 9,
   "metadata": {},
   "outputs": [
    {
     "name": "stdout",
     "output_type": "stream",
     "text": [
      "Hi all, my name is Ola and I am a student here at UiO!             \n",
      " My email is ola@uio.no and my student id is 9999\n"
     ]
    }
   ],
   "source": [
    "student.present_myself()"
   ]
  },
  {
   "cell_type": "markdown",
   "metadata": {},
   "source": [
    "## Model introduction:"
   ]
  },
  {
   "cell_type": "markdown",
   "metadata": {},
   "source": [
    "In the atmosphere we have different heating/cooling in different parts of the atmosphere (more on this in later chapters). This can lead to the atmosphere becoming statically unstable and thus we can get vertical mixing of airmasses.\n",
    "\n",
    "In this assignment we will program a very simplified column model. The model will take in an initial temperature profile and lift or sink \"airparcels\"  until we have a stable atmospheric profile. \n",
    "\n",
    "**Assumptions for model:**\n",
    "\n",
    "- We use pressure coordinates\n",
    "\n",
    "We make some simplifications:\n",
    "\n",
    "- We assume for the most part no mixing of air to surroundings (each box in the model is an isolated air parcel) when the air is lifted/lowered.\n",
    "\n",
    "- We assume that the column consists of only dry air \n",
    "\n"
   ]
  },
  {
   "cell_type": "markdown",
   "metadata": {},
   "source": [
    "## Exercise 0\n",
    "- How does potential temperature change as air is lifted/sinks under the assumptions above?\n",
    "- Can you think of any reason why it is nice to use pressure coordinates here? (Hint: we are moving around the air in each grid box)"
   ]
  },
  {
   "cell_type": "markdown",
   "metadata": {},
   "source": [
    "## Exercise 1"
   ]
  },
  {
   "cell_type": "markdown",
   "metadata": {},
   "source": [
    "We start by making a class in python for the model grid.\n",
    "\n",
    "We'll use pressure coordinates. The boxes in the column should be spaced with equal pressure difference between each box.\n",
    "\n",
    "In addition add an array **for** the altitude in meters (this is mainly for plotting purposes). We'll assume a constant scale height and use eq. 3.25 in the book.\n",
    "\n",
    "- Check that is grid correctly implemented by creating an instance of the class Grid with 50 boxes, highest pressure of 1000 hPa and lowest pressure of 10 hPa. Plot the pressure against the height.\n",
    "- Why is it not really correct to use a constant scale height here? What should we have really done to get the correct height for each pressure level?\n",
    "\n",
    "(Hint: You can choose whether you want your array to start at the top of the atmosphere or the ground, but it might be most intuitive to do the down up approach)"
   ]
  },
  {
   "cell_type": "code",
   "execution_count": 10,
   "metadata": {},
   "outputs": [],
   "source": [
    "%load_ext autoreload\n",
    "%autoreload 2\n",
    "import numpy as np\n",
    "import sys\n",
    "import matplotlib.pyplot as plt\n",
    "\n",
    "\n",
    "Lv = 3.34 * 10 ** 5  # J/kg\n",
    "cp = 1004.\n",
    "r2cp = 287 / 1004.  # 0.286 #R/cp\n",
    "\n",
    "\n",
    "class Grid:\n",
    "    def __init__(self, nr_boxes, top_pressure, p0=1000., scale_H=8000):\n",
    "        return"
   ]
  },
  {
   "cell_type": "markdown",
   "metadata": {
    "pycharm": {
     "name": "#%% md\n"
    }
   },
   "source": [
    "## Exercise  2\n",
    "\n",
    "We will now make a class that holds a temperature profil. It should be a subclass of the grid glass you made in the previous exercise, but in addition it should take a temperature profil as input and have some additional methods.\n",
    "\n",
    "\n",
    "1. Add an initialization method (def \\_\\_init\\_\\_(self,input1, input2 osv)). This should take as input everything needed to initialize our model, i.e.: \n",
    "    - Grid specifications: number of boxes, top pressure, bottom pressure and scale height.\n",
    "    - Temperature profile: You can choose if you want to initialize the model with potential temperature or absolute temperature or either. You should add the temperature profile as an attribute to the class (i.e. put a line self.temperature=temperature). \n",
    "    \n",
    "    \n",
    "2. Add a function or method in the class that computes:\n",
    "    1. potential temperature $\\theta$ from temperature (temp2theta(..) )\n",
    "    2. potential temperature to temperature (and theta2temp(..)) \n",
    "    \n",
    "    Add both the temperature and the potential temperature as attributes in the init method (you will have to compute one from the other, dependent on step 1). \n",
    "    Make an instance of the model with a temperature profile (you can choose how it looks) and plot temperature and potential temperature. \n",
    "\n",
    "3. Plot temperature and potential temperature for a stable and an unstable profile against height (you will have to come up with these profiles yourself!). \n"
   ]
  },
  {
   "cell_type": "code",
   "execution_count": 11,
   "metadata": {
    "lines_to_next_cell": 2,
    "pycharm": {
     "name": "#%%\n"
    }
   },
   "outputs": [],
   "source": [
    "\n",
    "\n",
    "class Temperature_profile(Grid):\n",
    "    \"\"\"\n",
    "\n",
    "    \"\"\"\n",
    "    r2cp = 287 / 1004.  # 0.286 #R/cp\n",
    "\n",
    "    def __init__(self):\n",
    "        \"\"\"\n",
    "        Initializes the model\n",
    "        :param nr_boxes:\n",
    "        :param top_pressure:\n",
    "        :param temperatures:\n",
    "        :param theta:\n",
    "        :param p0:\n",
    "        :param scale_H:\n",
    "        \"\"\"\n",
    "        # Initialize the grid by calling the super init:\n",
    "        # super().__init__(nr_boxes, top_pressure, p0, scale_H)\n",
    "\n",
    "\n",
    "    def equilibrium(self):\n",
    "        \"\"\"\n",
    "        Shifts the air until equilibrium\n",
    "        :return:\n",
    "        \"\"\"\n",
    "\n",
    "        return\n",
    "\n",
    "    def heat_profile(self):\n",
    "        \"\"\"\n",
    "        Heats the profile according to heating_rate*dt\n",
    "        :param heating_rate:\n",
    "        :param dt:\n",
    "        :return:\n",
    "        \"\"\"\n",
    "        return"
   ]
  },
  {
   "cell_type": "markdown",
   "metadata": {},
   "source": [
    "## Exersice 3\n",
    "1. Make a function that make the boxes lifts/sinks down until the column is stable. \n",
    "2. Test that it does what you intend it to do by running it with one stable and one instable profile (you might want to try and plot/print it for each time you move a box to make sure your are doing what you are intending). You do not need to include this in the report (debugging purposes :) )\n",
    "3. Add your function as a method to your class (without the plotting). "
   ]
  },
  {
   "cell_type": "markdown",
   "metadata": {
    "pycharm": {
     "name": "#%% md\n"
    }
   },
   "source": [
    "## Oppgave 4\n",
    "Let the top pressure be 500 hPa and the number of boxes be 500.\n",
    "\n",
    "Initialize 3 temperature profiles: \n",
    "\n",
    "- A stable profile (come up with it yourself)\n",
    "- An instable profile (come up with it yourself)\n",
    "- A semi-realistic profile that you can read from file with the following instructions:\n",
    "\n",
    "```python\n",
    "import read_in_temp\n",
    "temp3=read_in_temp.read_temperatures_and_interpolate_to_grid('temperatures.csv', \n",
    "                                                             Grid(nr_of_boxes, \n",
    "                                                                  top_pres).p_mid) \n",
    "```\n",
    "\n",
    "\n",
    "Plot each profile before and after equilibrium. \n",
    "\n",
    "Try to vary the top pressure so that you can actually see the change in the last profile. Describe the changes and you see and explain what kind of natural phenomena this could represent."
   ]
  },
  {
   "cell_type": "markdown",
   "metadata": {},
   "source": [
    "## Exercise 5: Diabatic heating\n",
    "We will noe add a heating rate to the model. We'll add a diabatic heating to imitate heating by solar insolation during the day. \n",
    "\n",
    "Add a method to your model (the class) that takes a heating rate (K/hour) for every box in the model and a time step (e.g. 1 hour) and changes the temperature accordingly. That is, if I give the fuction a heating rate of 1 K/h and a timestep of 1/2 hour, then the temperature will rise by 0.5 K. \n",
    "\n",
    "Start with the temperature profile from the last exercise: \n",
    "```python\n",
    "import read_in_temp\n",
    "temp3=read_in_temp.read_temperatures_and_interpolate_to_grid('temperatures.csv', \n",
    "                                                             Grid(nr_of_boxes, \n",
    "                                                                  top_pres).p_mid) \n",
    "```\n",
    "Plot the result\n",
    "- Before heating\n",
    "- After heating\n",
    "- After calculating a new equilibrium\n",
    "- After doing the steps above 5 times\n",
    "\n",
    "What happens to the heated profile? What physical phenomena could this be similar to?\n",
    "\n",
    "Give the model the following profile for heating:"
   ]
  },
  {
   "cell_type": "code",
   "execution_count": 23,
   "metadata": {
    "pycharm": {
     "name": "#%%\n"
    }
   },
   "outputs": [
    {
     "data": {
      "image/png": "[encoded data removed]",
      "text/plain": [
       "<Figure size 432x288 with 1 Axes>"
      ]
     },
     "metadata": {
      "needs_background": "light"
     },
     "output_type": "display_data"
    }
   ],
   "source": [
    "top_pres = 700\n",
    "p0=1000.\n",
    "nr_of_boxes = 1000\n",
    "heating_rate = 2 * np.exp(- 15 * np.linspace(0, 1, nr_of_boxes))  # K/h\n",
    "delta_p = (p0 - top_pres) / nr_of_boxes\n",
    "p_mid = np.arange(top_pres + delta_p / 2., p0, delta_p)[::-1]# \n",
    "plt.plot(heating_rate, p_mid )  #\n",
    "plt.xlabel('[K/h]')\n",
    "plt.ylabel('[hPa]')\n",
    "plt.yscale('log')\n",
    "plt.gca().invert_yaxis()"
   ]
  },
  {
   "cell_type": "markdown",
   "metadata": {},
   "source": [
    "## Exercise 6:\n",
    "How would you go about adding water vapor to this model? Describe which processes should be included."
   ]
  },
  {
   "cell_type": "markdown",
   "metadata": {
    "pycharm": {
     "name": "#%% md\n"
    }
   },
   "source": [
    "## OPTIONAL: Exercicse 8\n",
    "Finallly, we will make a little film with our model when we add a heating rate. The film should show how temperature and potential temperature changes over time.\n",
    "\n",
    "To simulate the diurnal variation, multiply the heating rate from the last exercise with a sinus function. E.g. like this:\n",
    "```python\n",
    "heating_rate*np.sin(i*timestep/24*2*np.pi)\n",
    "```\n",
    "where i is the index (of time). \n",
    "\n",
    "Use a timestep of 1 hour, but try to vary the timestep. Run the model for 2 days. Describe what happens. What kind of natural phenomena could this be compared to? What changes when you change the timestep?\n",
    "\n"
   ]
  },
  {
   "cell_type": "code",
   "execution_count": null,
   "metadata": {
    "pycharm": {
     "name": "#%%\n"
    }
   },
   "outputs": [],
   "source": [
    "%matplotlib inline\n",
    "from matplotlib import animation, rc\n",
    "from IPython.display import HTML\n",
    "\n",
    "# First set up the figure, the axis, and the plot element we want to animate\n",
    "top_pres = 600\n",
    "nr_of_boxes = 500\n",
    "# \n",
    "heating_rate = 2 * np.exp(- 15 * np.linspace(0, 1, nr_of_boxes))  # K/h\n",
    "grid = Grid(nr_of_boxes, top_pres)\n",
    "temperatures = read_in_temp.read_temperatures_and_interpolate_to_grid('temperatures.csv', \n",
    "                                                                      Grid(nr_of_boxes, top_pres).p_mid)  \n",
    "\n",
    "# temperatures\n",
    "prof = Temperature_profile(nr_of_boxes, top_pres, temperatures=temperatures)\n",
    "\n",
    "fig, ax = plt.subplots()\n",
    "\n",
    "ax.set_xlim((225, 400))\n",
    "ax.set_ylim((min(prof.p_mid), 1000))\n",
    "\n",
    "lines = []  #\n",
    "lines.append(plt.semilogy([], [], label=r'$\\theta$')[0])\n",
    "lines.append(plt.semilogy([], [], label='Temp')[0])\n",
    "plt.legend()\n",
    "plt.ylabel('[Pa]')\n",
    "plt.xlabel('[K]')\n",
    "plt.gca().invert_yaxis()\n",
    "\n",
    "# temperatures\n",
    "prof = Temperature_profile(nr_of_boxes, top_pres, temperatures=temperatures)\n",
    "\n",
    "\n",
    "# initialization function: plot the background of each frame\n",
    "def init():\n",
    "    for line in lines:\n",
    "        line.set_data([], [])\n",
    "    return lines\n",
    "\n",
    "\n",
    "# animation function. This is called sequentially\n",
    "timestep = 1\n",
    "\n",
    "\n",
    "def animate(i):\n",
    "    # Calculate theta and temperature for each time step\n",
    "    # and let x be theta, x2 be temperature and y be pressure\n",
    "\n",
    "\n",
    "    #y = ??\n",
    "    #x = ??\n",
    "    #y2 = ??\n",
    "    #x2 = ??\n",
    "    lines[0].set_data(x, y)\n",
    "    lines[1].set_data(x2, y)\n",
    "    return lines\n",
    "\n",
    "\n",
    "# plt.legend()\n",
    "# call the animator. blit=True means only re-draw the parts that have changed.\n",
    "nr_of_days = 2\n",
    "frames = round(24 * nr_of_days / timestep)\n",
    "interval = 200 * timestep  # Delay between frames in milliseconds\n",
    "anim = animation.FuncAnimation(fig, animate, init_func=init,\n",
    "                               frames=frames, interval=interval, blit=True)\n",
    "HTML(anim.to_html5_video())"
   ]
  }
 ],
 "metadata": {
  "jupytext": {
   "encoding": "# -*- coding: utf-8 -*-",
   "text_representation": {
    "extension": ".py",
    "format_name": "percent",
    "format_version": "1.3",
    "jupytext_version": "1.3.2"
   }
  },
  "kernelspec": {
   "display_name": "Python 3",
   "language": "python",
   "name": "python3"
  },
  "language_info": {
   "codemirror_mode": {
    "name": "ipython",
    "version": 3
   },
   "file_extension": ".py",
   "mimetype": "text/x-python",
   "name": "python",
   "nbconvert_exporter": "python",
   "pygments_lexer": "ipython3",
   "version": "3.6.7"
  },
  "pycharm": {
   "stem_cell": {
    "cell_type": "raw",
    "source": [],
    "metadata": {
     "collapsed": false
    }
   }
  }
 },
 "nbformat": 4,
 "nbformat_minor": 4
}