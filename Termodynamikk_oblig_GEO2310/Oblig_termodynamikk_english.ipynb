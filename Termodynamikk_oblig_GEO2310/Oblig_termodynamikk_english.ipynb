{
 "cells": [
  {
   "cell_type": "markdown",
   "metadata": {},
   "source": [
    "# Mandatory assigment GEO2310: Thermodynamics"
   ]
  },
  {
   "cell_type": "markdown",
   "metadata": {},
   "source": [
    "In the atmosphere we have different heating/cooling in different heights (more on this in later chapters). This can lead to the atmosphere becoming statically unstable and thus we can get vertical mixing of airmasses.\n",
    "\n",
    "In this assignment we will program a very simplified column model. We make a model which takes a temperature profile and lifts/lowers air until we have a stable profile. \n",
    "\n",
    "**Assumptions for model:**\n",
    "\n",
    "- We use pressure coordinates\n",
    "\n",
    "We make some simplifications:\n",
    "\n",
    "- We assume no mixing of air to surroundings (each box in the model is an isolated air parcel) when the air is lifted/lowered.\n",
    "\n",
    "- We assume that the column consists of only dry air (potential temperature is conserved)\n"
   ]
  },
  {
   "cell_type": "markdown",
   "metadata": {},
   "source": [
    "## Exercise 1\n"
   ]
  },
  {
   "cell_type": "markdown",
   "metadata": {},
   "source": [
    "We start by making a class in python for the model grid.\n",
    "\n",
    "We'll use pressure coordinates. The boxes in the column should be spaced with equal pressure difference between each box (like this mass is conserved).\n",
    "\n",
    "In addition add an array **for** the height in meters. We'll assume a constant scale height and use eq. 3.25 in the book.\n",
    "\n",
    "Check that the grid by plotting pressure against height with 100 boxes with highest pressure of 10 hPa and lowest pressure 1000 hPa. Let the scale height be 8000 m (basec on T=273 K ). \n",
    "\n",
    "Why is it not really correct to use a constant scale height here? What should we have really done to get the correct height for each pressure level?"
   ]
  },
  {
   "cell_type": "code",
   "execution_count": 2,
   "metadata": {},
   "outputs": [],
   "source": [
    "import numpy as np\n",
    "import sys\n",
    "import pandas as pd\n",
    "Lv = 3.34*10**5 # J/kg Latent varmekapasitet\n",
    "cp=1004. # Spesifikk varmekapasitet tørr luft, konstant trykk\n",
    "r2cp=287/1004.# 0.286 #R/cp\n",
    "\n",
    "class Grid:\n",
    "    #scale_H = 8000 # assume constant, T = 273 K, H = 8000 m\n",
    "    def __init__(self, nr_boxes, top_pressure, p0=1000.,scale_H=8000):\n",
    "        self.p0=p0 # hPa\n",
    "        self.nr_boxes = nr_boxes # number of boxes\n",
    "        self.scale_H = scale_H # [m] scale height atmosphere\n",
    "        return\n",
    "    def say_hi(self):\n",
    "        print('Hello')\n",
    "        return\n",
    "        #p_mid = # mid box pressure [hPa]\n",
    "        #self.z_mid= # [m] mid box height "
   ]
  },
  {
   "cell_type": "code",
   "execution_count": 3,
   "metadata": {},
   "outputs": [
    {
     "name": "stdout",
     "output_type": "stream",
     "text": [
      "Hello\n"
     ]
    }
   ],
   "source": [
    "grd=Grid(10, 100)\n",
    "\n",
    "grd.say_hi()\n",
    "\n",
    "#print('HELLO GEO2310')"
   ]
  },
  {
   "cell_type": "markdown",
   "metadata": {},
   "source": [
    "## Exercise  2\n",
    "\n",
    "We'll now make a class that holds a temperature profil. It should be based on the grid glass you made in the previous exercise, but in addition it should take a temperature profil.\n",
    "\n",
    "1. Add an initialization fuction (def \\_\\_init\\_\\_(self,input1, input2 osv)) that takes a the variables to initialize the grid (number of boxes, top pressure, bottom pressure and scale height). Add to the init function that it takes a temperature profile and adds it as self.temperatures in the class. \n",
    "\n",
    "2. Add a function in the class that computes potential temperature $\\theta$ from temperature and one that computes potential temperature to temperature (temp2theta(..) and theta2temp(..)). Make an instance of the model with a temperature profile (you can choose how it looks) and plot temperature and potential temperature. \n",
    "\n",
    "3. Change the init function from point 1 so that it can be initialized with either a potential temperature or a temperature profil. Plot temperature and potential temperature for a stable and an unstable profile. \n"
   ]
  },
  {
   "cell_type": "code",
   "execution_count": 7,
   "metadata": {},
   "outputs": [],
   "source": [
    "class Temperature_profile(Grid):\n",
    "    r2cp=287/1004.#0.286 #R/cp\n",
    "    \n",
    "    def __init__(self, nr_boxes, top_pressure, temperatures=np.array([]), theta=np.array([]), p0=1000., scale_H=8000):\n",
    "        # initialiser gridded ved å kalle init funksjonen til super klassen.\n",
    "        super().__init__(nr_boxes, top_pressure, p0, scale_H)\n",
    "        if len(temperatures)>0:\n",
    "            #use temp to initialize\n",
    "        else:\n",
    "            #use theta to initialize. \n",
    "        #self.temperatures\n",
    "        #self.theta\n",
    "        return\n",
    "        \n",
    "        \n",
    "        \n",
    "    def temp2theta(self, temperatures):\n",
    "        #compute potential temperature from temperature profile\n",
    "        return# theta\n",
    "\n",
    "    def theta2temp(self,theta):\n",
    "        # compute temperature from potential temperature profile\n",
    "        return #temperatures       \n",
    "        \n",
    "    def lift_box(self,i):\n",
    "        # Løfter en boks til den er stabil.\n",
    "        # Oppgave 3\n",
    "        return #box_shifted\n",
    "\n",
    "            \n",
    "    def equilibrium(self):\n",
    "        # Lar luft løftes/senkes til likevekt\n",
    "        # Oppgave 3\n",
    "        return \n",
    "    \n",
    "    def heat_profile(self,heating_rate, dt):\n",
    "        return\n",
    "    \n",
    "        \n",
    "        \n",
    "        \n",
    "        \n",
    "   "
   ]
  },
  {
   "cell_type": "markdown",
   "metadata": {},
   "source": [
    "## Exersice 3\n",
    "1. Add a function that takes an index of a box and lifts that box until its stable and moves the other boxes down (`lift_box(self,i)`).\n",
    "\n",
    "2. Make a script that lets the boxes be lifted/pushed down until the column is stable (by calling the function from 1). Test that your script does what you expect it to by making an instable profile ($\\theta$ decreasing with height) and 5 boxes in total and plot between every time you move a box. Then add a function to the class that does this (`equilibrium(self)`). You can use the script below as inspiration.\n"
   ]
  },
  {
   "cell_type": "code",
   "execution_count": null,
   "metadata": {},
   "outputs": [],
   "source": [
    "# 2: Under følger en eksempelkode som du kan ta utgangspunkt i\n",
    "import numpy as np\n",
    "nr_of_boxes=5\n",
    "top_pres=10. # hPa\n",
    "theta= 300+np.arange(nr_of_boxes)/nr_of_boxes\n",
    "\n",
    "temp_prof = Temperature_profile(nr_of_boxes, top_pres, theta=theta)\n",
    "\n",
    "# Lar luft løftes/senkes til likevekt\n",
    "i=0 #len(temp_prof.p_mid)-1\n",
    "while i<nr_of_boxes: # for i in np.arange(0,len(self.grid.p_mid))[::-1]:\n",
    "    plt.plot(temp_prof.theta, temp_prof.p_mid, label='%.0f'%i)\n",
    "    \n",
    "    box_shifted = temp_prof.lift_box(i) # Løft en boks\n",
    "    \n",
    "    if not box_shifted: i=i+1 # Hvis boksen ikke er løftet kan du gå et steg ned/opp:\n",
    "    temp_prof.temperatures=temp_prof.theta2temp(temp_prof.theta)\n",
    "    \n",
    "plt.gca().invert_yaxis()\n",
    "plt.legend()\n",
    "plt.yscale('log')\n",
    "plt.show()\n"
   ]
  },
  {
   "cell_type": "markdown",
   "metadata": {},
   "source": [
    "## Oppgave 4\n",
    "Let the top pressure be 10 hPa and the number of boxes be 1000.\n",
    "\n",
    "Initialize 3 temperature profiles: One stable, one unstable and one which you can read with the following function:\n",
    "\n",
    "\n",
    "```python\n",
    "import read_in_temp\n",
    "temp3=read_in_temp.read_temperatures_and_interpolate_to_grid('temperatures.csv', Grid(nr_of_boxes, top_pres).p_mid) \n",
    "```\n",
    "This gives you a semi realitic temperature profile. \n",
    "\n",
    "Plot the profiles before and after equilibrium. \n",
    "\n",
    "Try to vary the top pressure so that you can actually see the change in the last profile. Describe the changes and you see and explain what kind of natural phenomena this could represent.\n"
   ]
  },
  {
   "cell_type": "markdown",
   "metadata": {},
   "source": [
    "## Exercise 5: Diabatic heating\n",
    "We will noe add a heating rate to the model. We'll add a diabatic heating to imitate heating by solar insolation during the day. \n",
    "\n",
    "Add a function that takes a heating rate (K/hour) for every box in the model and a time step (e.g. 1 hour) and changes the temperature accordingly. That is, if I give the fuction a heating rate of 1 K/h and a timestep of 1/2 hour, then the temperature will rise by 0.5 K. \n",
    "\n",
    "Start with the temperature profile from the last exercise: \n",
    "```python\n",
    "import read_in_temp\n",
    "temp3=read_in_temp.read_temperatures_and_interpolate_to_grid('temperatures.csv', Grid(nr_of_boxes, top_pres).p_mid) \n",
    "```\n",
    "Give the model the following profile for heating:\n"
   ]
  },
  {
   "cell_type": "code",
   "execution_count": 18,
   "metadata": {},
   "outputs": [
    {
     "data": {
      "image/png": "[encoded data removed]",
      "text/plain": [
       "<Figure size 432x288 with 1 Axes>"
      ]
     },
     "metadata": {
      "needs_background": "light"
     },
     "output_type": "display_data"
    }
   ],
   "source": [
    "# \n",
    "heating_rate =2*np.exp(- 20*np.linspace(0,1,nr_of_boxes)[::-1]) # K/h\n",
    "grid= Grid(nr_of_boxes, top_pres)\n",
    "plt.plot( heating_rate, grid.p_mid)#\n",
    "plt.xlabel('[K/h]')\n",
    "plt.ylabel('[hPa]')\n",
    "plt.yscale('log')\n",
    "plt.gca().invert_yaxis()"
   ]
  },
  {
   "cell_type": "markdown",
   "metadata": {},
   "source": [
    "Use a time step of 1 hour. Plot the result before the heating, after the heating and when the model is in a new equilibrium.\n"
   ]
  },
  {
   "cell_type": "markdown",
   "metadata": {},
   "source": [
    "## Exercicse 6:\n",
    "Finallly, we will make a little film with our model when we add a heating rate. The film should show how temperature and potential temperature changes over time.\n",
    "\n",
    "To simulate the diurnal variation, multiply the heating rate from the last exercise with a sinus function. E.g. like this:\n",
    "```python\n",
    "heating_rate*np.sin(i*timestep/24*2*np.pi)\n",
    "```\n",
    "where i is the index (of time). \n",
    "\n",
    "Use a timestep of 1 hour, but try to vary the timestep. Run the model for 2 days. Describe what happens. What kind of natural phenomena could this be compared to? What changes when you change the timestep?\n",
    "\n"
   ]
  },
  {
   "cell_type": "code",
   "execution_count": null,
   "metadata": {},
   "outputs": [],
   "source": [
    "%matplotlib inline\n",
    "from matplotlib import animation, rc\n",
    "from IPython.display import HTML\n",
    "# First set up the figure, the axis, and the plot element we want to animate\n",
    "top_pres=400\n",
    "nr_of_boxes=1000\n",
    "timestep=1. #h\n",
    "# Les inn temperaturprofil:\n",
    "temperatures = read_in_temp.read_temperatures_and_interpolate_to_grid('temperatures.csv', Grid(nr_of_boxes, top_pres).p_mid) \n",
    "\n",
    "# Initialiser:\n",
    "\n",
    "temp_profil = Temperature_profile(nr_of_boxes, top_pres,temperatures=temperatures)\n",
    "\n",
    "\n",
    "# La stå:\n",
    "fig, ax = plt.subplots()\n",
    "ax.set_xlim(( 225, 400))\n",
    "ax.set_ylim((min(temp_profil.p_mid),max(temp_profil.p_mid))\n",
    "lines = []#\n",
    "lines.append(plt.semilogy([],[], label=r'$\\theta$')[0])\n",
    "lines.append(plt.semilogy([],[], label='Temp')[0])\n",
    "plt.legend()\n",
    "plt.ylabel('Pressure [hPa]')\n",
    "plt.xlabel('[K]')\n",
    "plt.gca().invert_yaxis()\n",
    "\n",
    "# initialization function: plot the background of each frame\n",
    "def init():\n",
    "    for line in lines:\n",
    "        line.set_data([], [])\n",
    "    return lines\n",
    "# animation function. This is called sequentially\n",
    "timestep=1\n",
    "def animate(i):\n",
    "    # Regn ut theta og temperaturen for hvert tidssteg\n",
    "    # her og la x være theta, og x2 være temperatur.\n",
    "    # La y være trykk eller høyde\n",
    "    lines[0].set_data(x, y)\n",
    "    lines[1].set_data(x2,y)\n",
    "    return lines\n",
    "\n",
    "#plt.legend()\n",
    "# call the animator. blit=True means only re-draw the parts that have changed.\n",
    "nr_of_days = 2\n",
    "frames = round(24*nr_of_days/timestep)\n",
    "interval = 200*timestep # Delay between frames in milliseconds\n",
    "\n",
    "anim = animation.FuncAnimation(fig, animate, init_func=init,\n",
    "                               frames=frames, interval=interval, blit=True)\n",
    "HTML(anim.to_html5_video())"
   ]
  },
  {
   "cell_type": "markdown",
   "metadata": {},
   "source": [
    "## Exercise 7:\n",
    "How would you go about adding water vapor to this model? Describe which processes should be included."
   ]
  },
  {
   "cell_type": "markdown",
   "metadata": {},
   "source": [
    "# END"
   ]
  }
 ],
 "metadata": {
  "kernelspec": {
   "display_name": "Python 3",
   "language": "python",
   "name": "python3"
  },
  "language_info": {
   "codemirror_mode": {
    "name": "ipython",
    "version": 3
   },
   "file_extension": ".py",
   "mimetype": "text/x-python",
   "name": "python",
   "nbconvert_exporter": "python",
   "pygments_lexer": "ipython3",
   "version": "3.7.2"
  }
 },
 "nbformat": 4,
 "nbformat_minor": 2
}
